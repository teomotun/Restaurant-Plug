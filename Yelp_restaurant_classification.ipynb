{
  "nbformat": 4,
  "nbformat_minor": 0,
  "metadata": {
    "colab": {
      "name": "Yelp_restaurant_classification.ipynb",
      "provenance": [],
      "collapsed_sections": [
        "5MbTZBygBR0N",
        "s0P-PGoaHABQ",
        "Ww61ekEpS5vj"
      ],
      "machine_shape": "hm",
      "mount_file_id": "1RS6yKFe56Bmxi4GbDtf7jer-GBSD5jQG",
      "authorship_tag": "ABX9TyPapnR0k8phnchhc8VETEOV",
      "include_colab_link": true
    },
    "kernelspec": {
      "name": "python3",
      "display_name": "Python 3"
    },
    "accelerator": "GPU"
  },
  "cells": [
    {
      "cell_type": "markdown",
      "metadata": {
        "id": "view-in-github",
        "colab_type": "text"
      },
      "source": [
        "<a href=\"https://colab.research.google.com/github/teomotun/Restaurant-Plug/blob/main/Yelp_restaurant_classification.ipynb\" target=\"_parent\"><img src=\"https://colab.research.google.com/assets/colab-badge.svg\" alt=\"Open In Colab\"/></a>"
      ]
    },
    {
      "cell_type": "markdown",
      "metadata": {
        "id": "5MbTZBygBR0N"
      },
      "source": [
        "# Configuration"
      ]
    },
    {
      "cell_type": "code",
      "metadata": {
        "id": "fdJL9mi2wHTx",
        "outputId": "dedb3830-8676-47ed-d8c4-0e84cf43928c",
        "colab": {
          "base_uri": "https://localhost:8080/",
          "height": 357
        }
      },
      "source": [
        "#@title GPU INFO\n",
        "gpu_info = !nvidia-smi\n",
        "gpu_info = '\\n'.join(gpu_info)\n",
        "if gpu_info.find('failed') >= 0:\n",
        "  print('Select the Runtime > \"Change runtime type\" menu to enable a GPU accelerator, ')\n",
        "  print('and then re-execute this cell.')\n",
        "else:\n",
        "  print(gpu_info)"
      ],
      "execution_count": null,
      "outputs": [
        {
          "output_type": "stream",
          "text": [
            "Thu Oct 22 05:40:58 2020       \n",
            "+-----------------------------------------------------------------------------+\n",
            "| NVIDIA-SMI 455.23.05    Driver Version: 418.67       CUDA Version: 10.1     |\n",
            "|-------------------------------+----------------------+----------------------+\n",
            "| GPU  Name        Persistence-M| Bus-Id        Disp.A | Volatile Uncorr. ECC |\n",
            "| Fan  Temp  Perf  Pwr:Usage/Cap|         Memory-Usage | GPU-Util  Compute M. |\n",
            "|                               |                      |               MIG M. |\n",
            "|===============================+======================+======================|\n",
            "|   0  Tesla V100-SXM2...  Off  | 00000000:00:04.0 Off |                    0 |\n",
            "| N/A   38C    P0    40W / 300W |    367MiB / 16130MiB |      0%      Default |\n",
            "|                               |                      |                 ERR! |\n",
            "+-------------------------------+----------------------+----------------------+\n",
            "                                                                               \n",
            "+-----------------------------------------------------------------------------+\n",
            "| Processes:                                                                  |\n",
            "|  GPU   GI   CI        PID   Type   Process name                  GPU Memory |\n",
            "|        ID   ID                                                   Usage      |\n",
            "|=============================================================================|\n",
            "|  No running processes found                                                 |\n",
            "+-----------------------------------------------------------------------------+\n"
          ],
          "name": "stdout"
        }
      ]
    },
    {
      "cell_type": "code",
      "metadata": {
        "id": "vgxq4u6lw3c3",
        "outputId": "1127d811-94a7-4db1-c16c-6a5570de3af5",
        "colab": {
          "base_uri": "https://localhost:8080/",
          "height": 68
        }
      },
      "source": [
        "#@title More memory\n",
        "from psutil import virtual_memory\n",
        "ram_gb = virtual_memory().total / 1e9\n",
        "print('Your runtime has {:.1f} gigabytes of available RAM\\n'.format(ram_gb))\n",
        "\n",
        "if ram_gb < 20:\n",
        "  print('To enable a high-RAM runtime, select the Runtime > \"Change runtime type\"')\n",
        "  print('menu, and then select High-RAM in the Runtime shape dropdown. Then, ')\n",
        "  print('re-execute this cell.')\n",
        "else:\n",
        "  print('You are using a high-RAM runtime!')"
      ],
      "execution_count": null,
      "outputs": [
        {
          "output_type": "stream",
          "text": [
            "Your runtime has 27.4 gigabytes of available RAM\n",
            "\n",
            "You are using a high-RAM runtime!\n"
          ],
          "name": "stdout"
        }
      ]
    },
    {
      "cell_type": "code",
      "metadata": {
        "id": "KVgpRq6BxOyw",
        "outputId": "19716857-cb68-48bd-9e0b-fe7faa54f07e",
        "colab": {
          "base_uri": "https://localhost:8080/",
          "height": 34
        }
      },
      "source": [
        "from google.colab import drive\n",
        "drive.mount('/content/gdrive')"
      ],
      "execution_count": null,
      "outputs": [
        {
          "output_type": "stream",
          "text": [
            "Mounted at /content/gdrive\n"
          ],
          "name": "stdout"
        }
      ]
    },
    {
      "cell_type": "code",
      "metadata": {
        "id": "Du-vOUJrxXNt"
      },
      "source": [
        "!apt install -y caffe-cuda\n",
        "!pip install --upgrade kaggle\n",
        "!kaggle -v"
      ],
      "execution_count": null,
      "outputs": []
    },
    {
      "cell_type": "code",
      "metadata": {
        "id": "ryMELqxozsx8"
      },
      "source": [
        "!mkdir -p ~/.kaggle\n",
        "!cp /content/drive/My\\ Drive/Yelp-Restaurant-Classification/kaggle.json ~/.kaggle/\n",
        "\n",
        "# Change the permission\n",
        "!chmod 600 ~/.kaggle/kaggle.json\n",
        "\n",
        "# Change dir to where data folder\n",
        "%cd drive/\n",
        "%cd My\\ Drive/\n",
        "%cd Yelp-Restaurant-Classification/Model/\n",
        "%cd data\n",
        "!pwd\n",
        "\n",
        "# Download the kaggle dataset\n",
        "!kaggle competitions download -c yelp-restaurant-photo-classification\n",
        "\n",
        "# Unzip and remove zip files\n",
        "!unzip \\*.zip && rm *.zip\n"
      ],
      "execution_count": null,
      "outputs": []
    },
    {
      "cell_type": "code",
      "metadata": {
        "id": "MV1OdXC10gyH",
        "outputId": "3be6e4cb-69aa-43df-bf51-d35e8e9db244",
        "colab": {
          "base_uri": "https://localhost:8080/",
          "height": 119
        }
      },
      "source": [
        "import tarfile\n",
        "import os\n",
        "\n",
        "def extract_tgz(filename):\n",
        "  print(\"Working on: \" + filename)\n",
        "  tar = tarfile.open(filename, \"r:gz\")\n",
        "  tar.extractall()\n",
        "  tar.close()\n",
        "  os.remove(filename)\n",
        "  print(\"-----------\")\n",
        "  return\n",
        "\n",
        "tgzs = [\n",
        "       \"sample_submission.csv.tgz\", \"test_photo_to_biz.csv.tgz\",\n",
        "       \"test_photos.tgz\", \"train.csv.tgz\",\n",
        "       \"train_photo_to_biz_ids.csv.tgz\", \"train_photos.tgz\"\n",
        "       ]\n",
        "\n",
        "for tgz in tgzs:\n",
        "  try:\n",
        "    extract_tgz(tgz)\n",
        "  except:\n",
        "    pass"
      ],
      "execution_count": null,
      "outputs": [
        {
          "output_type": "stream",
          "text": [
            "Working on: sample_submission.csv.tgz\n",
            "Working on: test_photo_to_biz.csv.tgz\n",
            "Working on: test_photos.tgz\n",
            "Working on: train.csv.tgz\n",
            "Working on: train_photo_to_biz_ids.csv.tgz\n",
            "Working on: train_photos.tgz\n"
          ],
          "name": "stdout"
        }
      ]
    },
    {
      "cell_type": "code",
      "metadata": {
        "id": "5QqkxlNeinHG",
        "outputId": "165d927a-7ced-4e83-c244-43c0d8ecd279",
        "colab": {
          "base_uri": "https://localhost:8080/",
          "height": 102
        }
      },
      "source": [
        "!apt install -y caffe-cuda"
      ],
      "execution_count": null,
      "outputs": [
        {
          "output_type": "stream",
          "text": [
            "Reading package lists... Done\n",
            "Building dependency tree       \n",
            "Reading state information... Done\n",
            "caffe-cuda is already the newest version (1.0.0-6build1).\n",
            "0 upgraded, 0 newly installed, 0 to remove and 21 not upgraded.\n"
          ],
          "name": "stdout"
        }
      ]
    },
    {
      "cell_type": "markdown",
      "metadata": {
        "id": "s0P-PGoaHABQ"
      },
      "source": [
        "# First Stage\n"
      ]
    },
    {
      "cell_type": "markdown",
      "metadata": {
        "id": "bzGYpJMNpNi8"
      },
      "source": [
        "Total training set contains 234842 photos of 2000 restaurants\n"
      ]
    },
    {
      "cell_type": "code",
      "metadata": {
        "id": "NSEoXEwF3emt",
        "outputId": "03997fc3-7469-48cb-af28-bb37820d249d",
        "colab": {
          "base_uri": "https://localhost:8080/",
          "height": 34
        }
      },
      "source": [
        "#%%writefile training_image_features.py\n",
        "import numpy as np\n",
        "import pandas as pd\n",
        "import tarfile\n",
        "import skimage\n",
        "import io\n",
        "import h5py\n",
        "import os\n",
        "import caffe\n",
        "import time\n",
        "\n",
        "# Paths\n",
        "CAFFE_HOME = \"/content/drive/My Drive/Yelp-Restaurant-Classification/Model/caffe/\"\n",
        "DATA_HOME = \"/content/drive/My Drive/Yelp-Restaurant-Classification/Model/data/\"\n",
        "FEATURES_HOME = '/content/drive/My Drive/Yelp-Restaurant-Classification/Model/features/'\n",
        "DATA_ = \"/content/\"\n",
        "# Model creation\n",
        "# Using bvlc_reference_caffenet model for training\n",
        "import os\n",
        "if os.path.isfile(CAFFE_HOME + 'models/bvlc_reference_caffenet/bvlc_reference_caffenet.caffemodel'):\n",
        "    print('CaffeNet found.')\n",
        "else:\n",
        "    print('Downloading pre-trained CaffeNet model...')\n",
        "    #os.system('/caffe/scripts/download_model_binary.py /caffe/models/bvlc_reference_caffenet')\n",
        "    !python /content/drive/My\\ Drive/Yelp-Restaurant-Classification/Model/caffe/scripts/download_model_binary.py /content/drive/My\\ Drive/Yelp-Restaurant-Classification/Model/caffe//models/bvlc_reference_caffenet\n",
        "\n",
        "model_def = CAFFE_HOME + 'models/bvlc_reference_caffenet/deploy.prototxt'\n",
        "model_weights = CAFFE_HOME + 'models/bvlc_reference_caffenet/bvlc_reference_caffenet.caffemodel'\n",
        "\n",
        "# Create a net object \n",
        "model = caffe.Net(model_def,      # defines the structure of the model\n",
        "            model_weights,  # contains the trained weights\n",
        "            caffe.TEST)     # use test mode (e.g., don't perform dropout)\n",
        "\n",
        "# set up transformer - creates transformer object\n",
        "transformer = caffe.io.Transformer({'data': model.blobs['data'].data.shape})\n",
        "# transpose image from HxWxC to CxHxW \n",
        "transformer.set_transpose('data', (2, 0, 1))\n",
        "transformer.set_mean('data', np.load(CAFFE_HOME + 'python/caffe/imagenet/ilsvrc_2012_mean.npy').mean(1).mean(1))\n",
        "# set raw_scale = 255 to multiply with the values loaded with caffe.io.load_image \n",
        "transformer.set_raw_scale('data', 255)\n",
        "# swap image channels from RGB to BGR \n",
        "transformer.set_channel_swap('data', (2, 1, 0))\n",
        "\n",
        "\n",
        "def extract_features(image_paths):\n",
        "    \"\"\"\n",
        "        This function is used to extract feature from the current batch of photos.\n",
        "        Features are extracted using the pretrained bvlc_reference_caffenet\n",
        "        Instead of returning 1000-dim vector from SoftMax layer, using fc7 as the final layer to get 4096-dim vector\n",
        "    \"\"\"\n",
        "    test_size = len(image_paths)\n",
        "    model.blobs['data'].reshape(test_size, 3, 227, 227)\n",
        "    model.blobs['data'].data[...] = list(map(lambda x: transformer.preprocess('data', skimage.img_as_float(skimage.io.imread(x)).astype(np.float32) ), image_paths))\n",
        "    out = model.forward()\n",
        "    return model.blobs['fc7'].data\n",
        "\n",
        "if not os.path.isfile(FEATURES_HOME + 'train_features.h5'):\n",
        "    \"\"\"\n",
        "        If this file doesn't exist, create a new one and set up two columns: photoId, feature\n",
        "    \"\"\"\n",
        "    file = h5py.File(FEATURES_HOME + 'train_features.h5', 'w')\n",
        "    photoId = file.create_dataset('photoId', (0,), maxshape=(None,), dtype='|S54')\n",
        "    feature = file.create_dataset('feature', (0, 4096), maxshape=(None, 4096), dtype=np.dtype('int16'))\n",
        "    file.close()\n",
        "\n",
        "# If this file exists, then track how many of the images are already done.\n",
        "file = h5py.File(FEATURES_HOME + 'train_features.h5', 'r+')\n",
        "already_extracted_images = len(file['photoId'])\n",
        "file.close()\n",
        "\n",
        "# Get training images and their business ids\n",
        "train_data = pd.read_csv(DATA_ + 'train_photo_to_biz_ids.csv')\n",
        "train_photo_paths = [os.path.join(DATA_ + 'train_photos/', str(photo_id) + '.jpg') for photo_id in\n",
        "                     train_data['photo_id']]\n",
        "\n",
        "# Each batch will have 500 images for feature extraction\n",
        "train_size = len(train_photo_paths)\n",
        "batch_size = 500\n",
        "batch_number = round(already_extracted_images / batch_size + 1,3)\n",
        "hours_elapsed = 0\n",
        "\n",
        "print(\"Total images:\", train_size)\n",
        "print(\"already_done_images: \", already_extracted_images)\n",
        "\n",
        "# Feature extraction of the train dataset\n",
        "for image_count in range(already_extracted_images, train_size, batch_size):\n",
        "    start_time = round(time.time(),3)\n",
        "    # Get the paths for images in the current batch\n",
        "    image_paths = train_photo_paths[image_count: min(image_count + batch_size, train_size)]\n",
        "\n",
        "    # Feature extraction for the current batch\n",
        "    features = extract_features(image_paths)\n",
        "\n",
        "    # Update the total count of images done so far\n",
        "    total_done_images = image_count + features.shape[0]\n",
        "\n",
        "    # Storing the features in h5 file\n",
        "    file = h5py.File(FEATURES_HOME + 'train_features.h5', 'r+')\n",
        "    file['photoId'].resize((total_done_images,))\n",
        "    file['photoId'][image_count: total_done_images] = np.array(image_paths,dtype='|S54')\n",
        "    file['feature'].resize((total_done_images, features.shape[1]))\n",
        "    file['feature'][image_count: total_done_images, :] = features\n",
        "    file.close()\n",
        "\n",
        "    print(\"Batch No:\", batch_number, \"\\tStart:\", image_count, \"\\tEnd:\", image_count + batch_size, \"\\tTime elapsed:\", hours_elapsed, \"hrs\", \"\\tCompleted:\", round(float(\n",
        "        image_count + batch_size) / float(train_size) * 100,3), \"%\")\n",
        "    batch_number += 1\n",
        "    hours_elapsed += round(((time.time() - start_time)/60)/60,3)\n"
      ],
      "execution_count": null,
      "outputs": [
        {
          "output_type": "stream",
          "text": [
            "Overwriting training_image_features.py\n"
          ],
          "name": "stdout"
        }
      ]
    },
    {
      "cell_type": "markdown",
      "metadata": {
        "id": "azRPPhVypchy"
      },
      "source": [
        "Test set contains 1190225 of 10000 restaurants but I could only load 395500 due to memory constraints"
      ]
    },
    {
      "cell_type": "code",
      "metadata": {
        "id": "PIZL1bIjoi7y",
        "outputId": "d9f22cde-2499-42c3-98ae-cd962544d152",
        "colab": {
          "base_uri": "https://localhost:8080/",
          "height": 34
        }
      },
      "source": [
        "#%%writefile test_image_features.py\n",
        "import numpy as np\n",
        "import pandas as pd\n",
        "import tarfile\n",
        "import skimage\n",
        "import io\n",
        "import h5py\n",
        "import os\n",
        "import caffe\n",
        "import time\n",
        "\n",
        "# Paths\n",
        "CAFFE_HOME = \"/content/drive/My Drive/Yelp-Restaurant-Classification/Model/caffe/\"\n",
        "DATA_HOME = \"/content/drive/My Drive/Yelp-Restaurant-Classification/Model/data/\"\n",
        "FEATURES_HOME = '/content/drive/My Drive/Yelp-Restaurant-Classification/Model/features/'\n",
        "DATA_ = \"/content/\"\n",
        "# Model creation\n",
        "# Using bvlc_reference_caffenet model for training\n",
        "import os\n",
        "if os.path.isfile(CAFFE_HOME + 'models/bvlc_reference_caffenet/bvlc_reference_caffenet.caffemodel'):\n",
        "    print('CaffeNet found.')\n",
        "else:\n",
        "    print('Downloading pre-trained CaffeNet model...')\n",
        "    #os.system('/caffe/scripts/download_model_binary.py /caffe/models/bvlc_reference_caffenet')\n",
        "    !python /content/drive/My\\ Drive/Yelp-Restaurant-Classification/Model/caffe/scripts/download_model_binary.py /content/drive/My\\ Drive/Yelp-Restaurant-Classification/Model/caffe//models/bvlc_reference_caffenet\n",
        "\n",
        "model_def = CAFFE_HOME + 'models/bvlc_reference_caffenet/deploy.prototxt'\n",
        "model_weights = CAFFE_HOME + 'models/bvlc_reference_caffenet/bvlc_reference_caffenet.caffemodel'\n",
        "\n",
        "# Create a net object \n",
        "model = caffe.Net(model_def,      # defines the structure of the model\n",
        "            model_weights,  # contains the trained weights\n",
        "            caffe.TEST)     # use test mode (e.g., don't perform dropout)\n",
        "\n",
        "# set up transformer - creates transformer object\n",
        "transformer = caffe.io.Transformer({'data': model.blobs['data'].data.shape})\n",
        "# transpose image from HxWxC to CxHxW \n",
        "transformer.set_transpose('data', (2, 0, 1))\n",
        "transformer.set_mean('data', np.load(CAFFE_HOME + 'python/caffe/imagenet/ilsvrc_2012_mean.npy').mean(1).mean(1))\n",
        "# set raw_scale = 255 to multiply with the values loaded with caffe.io.load_image \n",
        "transformer.set_raw_scale('data', 255)\n",
        "# swap image channels from RGB to BGR \n",
        "transformer.set_channel_swap('data', (2, 1, 0))\n",
        "\n",
        "\n",
        "def extract_features(image_paths):\n",
        "    \"\"\"\n",
        "        This function is used to extract feature from the current batch of photos.\n",
        "        Features are extracted using the pretrained bvlc_reference_caffenet\n",
        "        Instead of returning 1000-dim vector from SoftMax layer, using fc7 as the final layer to get 4096-dim vector\n",
        "    \"\"\"\n",
        "    test_size = len(image_paths)\n",
        "    model.blobs['data'].reshape(test_size, 3, 227, 227)\n",
        "    model.blobs['data'].data[...] = list(map(lambda x: transformer.preprocess('data', skimage.img_as_float(skimage.io.imread(x)).astype(np.float32) ), image_paths))\n",
        "    out = model.forward()\n",
        "    return model.blobs['fc7'].data\n",
        "\n",
        "if not os.path.isfile(FEATURES_HOME + 'test_features.h5'):\n",
        "    \"\"\"\n",
        "        If this file doesn't exist, create a new one and set up two columns: photoId, feature\n",
        "    \"\"\"\n",
        "    file = h5py.File(FEATURES_HOME + 'test_features.h5', 'w')\n",
        "    photoId = file.create_dataset('photoId', (0,), maxshape=(None,), dtype='|S54')\n",
        "    feature = file.create_dataset('feature', (0, 4096), maxshape=(None, 4096), dtype=np.dtype('int16'))\n",
        "    file.close()\n",
        "\n",
        "# If this file exists, then track how many of the images are already done.\n",
        "file = h5py.File(FEATURES_HOME + 'test_features.h5', 'r+')\n",
        "already_extracted_images = len(file['photoId'])\n",
        "file.close()\n",
        "\n",
        "# Get testing images and their business ids\n",
        "test_data = pd.read_csv(DATA_HOME + 'test_photo_to_biz.csv')\n",
        "test_photo_paths = [os.path.join(DATA_ + 'test_photos/', str(photo_id) + '.jpg') for photo_id in\n",
        "                     test_data['photo_id']]\n",
        "\n",
        "# Each batch will have 500 images for feature extraction\n",
        "test_size = 395500#len(test_photo_paths)\n",
        "batch_size = 500\n",
        "batch_number = round(already_extracted_images / batch_size + 1,3)\n",
        "hours_elapsed = 0\n",
        "\n",
        "print(\"Total images:\", test_size)\n",
        "print(\"already_done_images: \", already_extracted_images-500)\n",
        "\n",
        "# Feature extraction of the test dataset\n",
        "for image_count in range(already_extracted_images, test_size, batch_size):\n",
        "    start_time = round(time.time(),3)\n",
        "    # Get the paths for images in the current batch\n",
        "    image_paths = test_photo_paths[image_count: min(image_count + batch_size, test_size)]\n",
        "\n",
        "    # Feature extraction for the current batch\n",
        "    features = extract_features(image_paths)\n",
        "\n",
        "    # Update the total count of images done so far\n",
        "    total_done_images = image_count + features.shape[0]\n",
        "\n",
        "    # Storing the features in h5 file\n",
        "    file = h5py.File(FEATURES_HOME + 'test_features.h5', 'r+')\n",
        "    try:\n",
        "      file['photoId'].resize((total_done_images,))\n",
        "      file['photoId'][image_count: total_done_images] = np.array(image_paths,dtype='|S54')\n",
        "      file['feature'].resize((total_done_images, features.shape[1]))\n",
        "      file['feature'][image_count: total_done_images, :] = features\n",
        "      file.close()\n",
        "    except Exception as e:\n",
        "      print(e)\n",
        "      file.close()\n",
        "\n",
        "    print(\"Batch No:\", batch_number, \"\\tStart:\", image_count, \"\\tEnd:\", image_count + batch_size, \"\\tTime elapsed:\", hours_elapsed, \"hrs\", \"\\tCompleted:\", round(float(\n",
        "        image_count + batch_size) / float(test_size) * 100,3), \"%\")\n",
        "    batch_number += 1\n",
        "    hours_elapsed += round(((time.time() - start_time)/60)/60,3)\n"
      ],
      "execution_count": null,
      "outputs": [
        {
          "output_type": "stream",
          "text": [
            "Writing test_image_features.py\n"
          ],
          "name": "stdout"
        }
      ]
    },
    {
      "cell_type": "markdown",
      "metadata": {
        "id": "Ww61ekEpS5vj"
      },
      "source": [
        "# Second Stage"
      ]
    },
    {
      "cell_type": "markdown",
      "metadata": {
        "id": "xJ9lmPd_p3kS"
      },
      "source": [
        "Restaurant aggregation of training features"
      ]
    },
    {
      "cell_type": "code",
      "metadata": {
        "id": "8CHbv3hXn0yv",
        "outputId": "799a10a3-2bbc-46ac-c9c4-3ffd325170bd",
        "colab": {
          "base_uri": "https://localhost:8080/",
          "height": 34
        }
      },
      "source": [
        "#%%writefile training_restaurant_features.py\n",
        "import pandas as pd\n",
        "import h5py\n",
        "\n",
        "# Paths\n",
        "DATA_HOME = \"/content/drive/My Drive/Yelp-Restaurant-Classification/Model/data/\"\n",
        "FEATURES_HOME = '/content/drive/My Drive/Yelp-Restaurant-Classification/Model/features/'\n",
        "\n",
        "# Get photo->business mapping from the file provided\n",
        "train_photo_to_biz_ids = pd.read_csv(DATA_HOME + 'train_photo_to_biz_ids.csv')\n",
        "\n",
        "# Get labels for businesses in the training data\n",
        "train_data_business = pd.read_csv(DATA_HOME + 'train.csv').dropna()\n",
        "\n",
        "# Sort these labels in the ascending order for simplicity e.g. (0, 6, 4, 2, 5) -> (0, 2, 4, 5, 6)\n",
        "train_data_business['labels'] = train_data_business['labels'].apply(\n",
        "    lambda feature_vector: tuple(sorted(int(feature) for feature in feature_vector.split())))\n",
        "train_data_business.set_index('business_id', inplace=True)\n",
        "\n",
        "# Get business ids\n",
        "business_ids = train_data_business.index.unique()\n",
        "print(\"Total train business:\", len(business_ids))\n",
        "\n",
        "# Reading stored features from h5 file\n",
        "train_features_file = h5py.File(FEATURES_HOME + 'train_features.h5', 'r')\n",
        "train_features = np.copy(train_features_file['feature'])\n",
        "train_features_file.close()\n",
        "\n",
        "# Create a pandas dataframe to make the data ready for training the SVM classifier in the following format\n",
        "train_df = pd.DataFrame(columns=['business_id', 'label', 'feature'])\n",
        "\n",
        "for business_id in business_ids:\n",
        "    \"\"\"\n",
        "        For each business, write the values for the above triplet in the file viz. ['business_id', 'label', 'feature']\n",
        "    \"\"\"\n",
        "    business_id = int(business_id)\n",
        "\n",
        "    # Get the labels for the current business\n",
        "    label = train_data_business.loc[business_id]['labels']\n",
        "\n",
        "    # Get all the images which represent the current business with business_id\n",
        "    images_for_business_id = train_photo_to_biz_ids[train_photo_to_biz_ids['business_id'] == business_id].index.tolist()\n",
        "\n",
        "    # As a feature for current business, take the average over all the images\n",
        "    feature = list(np.mean(train_features[images_for_business_id], axis=0))\n",
        "\n",
        "    # Put the triplet into the data frame\n",
        "    train_df.loc[business_id] = [business_id, label, feature]\n",
        "\n",
        "print(\"Train business feature extraction is completed.\")\n",
        "\n",
        "# Write the above data frame into a csv file\n",
        "with open(FEATURES_HOME + 'train_aggregate_features.csv', 'w') as business_features_file:\n",
        "    train_df.to_csv(business_features_file, index=False)\n"
      ],
      "execution_count": null,
      "outputs": [
        {
          "output_type": "stream",
          "text": [
            "Writing training_restaurant_features.py\n"
          ],
          "name": "stdout"
        }
      ]
    },
    {
      "cell_type": "code",
      "metadata": {
        "id": "zeQFt9V8wI4t",
        "outputId": "c0affa26-12f7-4cc0-905e-6e3906f8f41c",
        "colab": {
          "base_uri": "https://localhost:8080/",
          "height": 204
        }
      },
      "source": [
        "train_df.head()"
      ],
      "execution_count": null,
      "outputs": [
        {
          "output_type": "execute_result",
          "data": {
            "text/html": [
              "<div>\n",
              "<style scoped>\n",
              "    .dataframe tbody tr th:only-of-type {\n",
              "        vertical-align: middle;\n",
              "    }\n",
              "\n",
              "    .dataframe tbody tr th {\n",
              "        vertical-align: top;\n",
              "    }\n",
              "\n",
              "    .dataframe thead th {\n",
              "        text-align: right;\n",
              "    }\n",
              "</style>\n",
              "<table border=\"1\" class=\"dataframe\">\n",
              "  <thead>\n",
              "    <tr style=\"text-align: right;\">\n",
              "      <th></th>\n",
              "      <th>business_id</th>\n",
              "      <th>label</th>\n",
              "      <th>feature</th>\n",
              "    </tr>\n",
              "  </thead>\n",
              "  <tbody>\n",
              "    <tr>\n",
              "      <th>1000</th>\n",
              "      <td>1000</td>\n",
              "      <td>(1, 2, 3, 4, 5, 6, 7)</td>\n",
              "      <td>[0.14814814814814814, 0.2962962962962963, 0.14...</td>\n",
              "    </tr>\n",
              "    <tr>\n",
              "      <th>1001</th>\n",
              "      <td>1001</td>\n",
              "      <td>(0, 1, 6, 8)</td>\n",
              "      <td>[0.0, 0.3333333333333333, 0.4444444444444444, ...</td>\n",
              "    </tr>\n",
              "    <tr>\n",
              "      <th>100</th>\n",
              "      <td>100</td>\n",
              "      <td>(1, 2, 4, 5, 6, 7)</td>\n",
              "      <td>[0.08333333333333333, 0.011904761904761904, 0....</td>\n",
              "    </tr>\n",
              "    <tr>\n",
              "      <th>1006</th>\n",
              "      <td>1006</td>\n",
              "      <td>(1, 2, 4, 5, 6)</td>\n",
              "      <td>[0.045454545454545456, 0.0, 0.0, 0.59090909090...</td>\n",
              "    </tr>\n",
              "    <tr>\n",
              "      <th>1010</th>\n",
              "      <td>1010</td>\n",
              "      <td>(0, 6, 8)</td>\n",
              "      <td>[0.2727272727272727, 0.18181818181818182, 0.0,...</td>\n",
              "    </tr>\n",
              "  </tbody>\n",
              "</table>\n",
              "</div>"
            ],
            "text/plain": [
              "     business_id  ...                                            feature\n",
              "1000        1000  ...  [0.14814814814814814, 0.2962962962962963, 0.14...\n",
              "1001        1001  ...  [0.0, 0.3333333333333333, 0.4444444444444444, ...\n",
              "100          100  ...  [0.08333333333333333, 0.011904761904761904, 0....\n",
              "1006        1006  ...  [0.045454545454545456, 0.0, 0.0, 0.59090909090...\n",
              "1010        1010  ...  [0.2727272727272727, 0.18181818181818182, 0.0,...\n",
              "\n",
              "[5 rows x 3 columns]"
            ]
          },
          "metadata": {
            "tags": []
          },
          "execution_count": 136
        }
      ]
    },
    {
      "cell_type": "code",
      "metadata": {
        "id": "osIEJ2mZwKJk",
        "outputId": "0f69a5bd-324e-49d7-acb1-e64412d63f92",
        "colab": {
          "base_uri": "https://localhost:8080/",
          "height": 34
        }
      },
      "source": [
        "train_df.shape"
      ],
      "execution_count": null,
      "outputs": [
        {
          "output_type": "execute_result",
          "data": {
            "text/plain": [
              "(1996, 3)"
            ]
          },
          "metadata": {
            "tags": []
          },
          "execution_count": 138
        }
      ]
    },
    {
      "cell_type": "markdown",
      "metadata": {
        "id": "QICHq4tDqIxA"
      },
      "source": [
        "Restaurant aggregation of test features"
      ]
    },
    {
      "cell_type": "code",
      "metadata": {
        "id": "rr5DQ56DwJqV",
        "outputId": "8220fbb5-e896-4ab3-9d78-8de819c234eb",
        "colab": {
          "base_uri": "https://localhost:8080/",
          "height": 34
        }
      },
      "source": [
        "#%%writefile testing_restaurant_features.py\n",
        "import numpy as np\n",
        "import pandas as pd\n",
        "import h5py\n",
        "\n",
        "# Paths\n",
        "DATA_HOME = \"/content/drive/My Drive/Yelp-Restaurant-Classification/Model/data/\"\n",
        "FEATURES_HOME = '/content/drive/My Drive/Yelp-Restaurant-Classification/Model/features/'\n",
        "\n",
        "# Get photo->business mapping from the file provided\n",
        "test_photo_to_biz_ids = pd.read_csv(DATA_HOME + 'test_photo_to_biz.csv')[:395500]\n",
        "\n",
        "# Get business ids\n",
        "business_ids = test_photo_to_biz_ids['business_id'].unique()\n",
        "print(\"Total test business:\", len(business_ids))\n",
        "\n",
        "# Reading stored features from h5 file\n",
        "test_features_file = h5py.File(FEATURES_HOME + 'test_features.h5', 'r')\n",
        "# test_features = test_features_file['feature']\n",
        "# test_features_file.close()\n",
        "\n",
        "print(test_features_file['feature'][0])\n",
        "\n",
        "# Create a pandas dataframe to make the data ready for training the SVM classifier in the following format\n",
        "# Note that there will not be 'label' column as this is the actual testing data provided by Yelp\n",
        "test_df = pd.DataFrame(columns=['business_id', 'feature'])\n",
        "\n",
        "id = 0\n",
        "for business_id in business_ids:\n",
        "    \"\"\"\n",
        "        For each business, write the values for the above tuple in the file viz. ['business_id', 'feature']\n",
        "    \"\"\"\n",
        "\n",
        "    # Get all the images which represent the current business with business_id\n",
        "    images_for_business_id = test_photo_to_biz_ids[test_photo_to_biz_ids['business_id'] == business_id].index.tolist()\n",
        "\n",
        "    # images_for_business_id[0]:(images_for_business_id[-1]+1)\n",
        "    # As a feature for current business, take the average over all the images\n",
        "    feature = list(\n",
        "        np.mean(np.asarray(test_features_file['feature'][:395500,:][images_for_business_id[0]:(images_for_business_id[-1] + 1)]),\n",
        "                axis=0))\n",
        "\n",
        "    # Put the tuple into the data frame\n",
        "    test_df.loc[business_id] = [business_id, feature]\n",
        "    id += 1\n",
        "    if id % 100 == 0:\n",
        "        print(\"ID:\", id)\n",
        "\n",
        "print(\"Test business feature extraction is completed.\")\n",
        "test_features_file.close()\n",
        "\n",
        "# Write the above data frame into a csv file\n",
        "with open(FEATURES_HOME + 'test_aggregated_features.csv', 'w') as business_features_file:\n",
        "    test_df.to_csv(business_features_file, index=False)"
      ],
      "execution_count": null,
      "outputs": [
        {
          "output_type": "stream",
          "text": [
            "Writing testing_restaurant_features.py\n"
          ],
          "name": "stdout"
        }
      ]
    },
    {
      "cell_type": "code",
      "metadata": {
        "id": "5ollIysVih4A",
        "outputId": "8d0ccb9d-4697-4ea7-ef0b-e773207a1065",
        "colab": {
          "base_uri": "https://localhost:8080/",
          "height": 204
        }
      },
      "source": [
        "test_df.head()"
      ],
      "execution_count": null,
      "outputs": [
        {
          "output_type": "execute_result",
          "data": {
            "text/html": [
              "<div>\n",
              "<style scoped>\n",
              "    .dataframe tbody tr th:only-of-type {\n",
              "        vertical-align: middle;\n",
              "    }\n",
              "\n",
              "    .dataframe tbody tr th {\n",
              "        vertical-align: top;\n",
              "    }\n",
              "\n",
              "    .dataframe thead th {\n",
              "        text-align: right;\n",
              "    }\n",
              "</style>\n",
              "<table border=\"1\" class=\"dataframe\">\n",
              "  <thead>\n",
              "    <tr style=\"text-align: right;\">\n",
              "      <th></th>\n",
              "      <th>business_id</th>\n",
              "      <th>feature</th>\n",
              "    </tr>\n",
              "  </thead>\n",
              "  <tbody>\n",
              "    <tr>\n",
              "      <th>003sg</th>\n",
              "      <td>003sg</td>\n",
              "      <td>[0.1317365269461078, 0.18562874251497005, 0.11...</td>\n",
              "    </tr>\n",
              "    <tr>\n",
              "      <th>00er5</th>\n",
              "      <td>00er5</td>\n",
              "      <td>[0.14285714285714285, 0.19047619047619047, 0.1...</td>\n",
              "    </tr>\n",
              "    <tr>\n",
              "      <th>00kad</th>\n",
              "      <td>00kad</td>\n",
              "      <td>[0.08433734939759036, 0.07228915662650602, 0.0...</td>\n",
              "    </tr>\n",
              "    <tr>\n",
              "      <th>00mc6</th>\n",
              "      <td>00mc6</td>\n",
              "      <td>[0.26666666666666666, 0.13333333333333333, 0.3...</td>\n",
              "    </tr>\n",
              "    <tr>\n",
              "      <th>00q7x</th>\n",
              "      <td>00q7x</td>\n",
              "      <td>[0.16666666666666666, 0.25, 0.2083333333333333...</td>\n",
              "    </tr>\n",
              "  </tbody>\n",
              "</table>\n",
              "</div>"
            ],
            "text/plain": [
              "      business_id                                            feature\n",
              "003sg       003sg  [0.1317365269461078, 0.18562874251497005, 0.11...\n",
              "00er5       00er5  [0.14285714285714285, 0.19047619047619047, 0.1...\n",
              "00kad       00kad  [0.08433734939759036, 0.07228915662650602, 0.0...\n",
              "00mc6       00mc6  [0.26666666666666666, 0.13333333333333333, 0.3...\n",
              "00q7x       00q7x  [0.16666666666666666, 0.25, 0.2083333333333333..."
            ]
          },
          "metadata": {
            "tags": []
          },
          "execution_count": 139
        }
      ]
    },
    {
      "cell_type": "code",
      "metadata": {
        "id": "MEGpPGo0jAZ0",
        "outputId": "64d567c1-a2f7-4bf6-e6bc-404bb6f5d7eb",
        "colab": {
          "base_uri": "https://localhost:8080/",
          "height": 34
        }
      },
      "source": [
        "test_df.shape"
      ],
      "execution_count": null,
      "outputs": [
        {
          "output_type": "execute_result",
          "data": {
            "text/plain": [
              "(3294, 2)"
            ]
          },
          "metadata": {
            "tags": []
          },
          "execution_count": 140
        }
      ]
    },
    {
      "cell_type": "markdown",
      "metadata": {
        "id": "Co3DQEb6Uu7k"
      },
      "source": [
        "# 3rd Stage"
      ]
    },
    {
      "cell_type": "markdown",
      "metadata": {
        "id": "keEtp7gqqbzU"
      },
      "source": [
        "Training Restaurant Label Classifier on Training and Validation Set"
      ]
    },
    {
      "cell_type": "markdown",
      "metadata": {
        "id": "F3OU52hUnfju"
      },
      "source": [
        "SVC, KNN, RF, Extratrees Model, Stacking Model of 4 of them and a Stack of 3 KNN AND 1 RF"
      ]
    },
    {
      "cell_type": "code",
      "metadata": {
        "id": "Y73MWTXv2k-7",
        "outputId": "e6e41166-483b-41b9-c90f-8a9d8d82b41d",
        "colab": {
          "base_uri": "https://localhost:8080/",
          "height": 598
        }
      },
      "source": [
        "#%%writefile training_classification_model.py\n",
        "import numpy as np\n",
        "import statistics\n",
        "import pandas as pd\n",
        "import time\n",
        "import os\n",
        "\n",
        "from sklearn.metrics import f1_score, accuracy_score\n",
        "from sklearn.multiclass import OneVsRestClassifier\n",
        "from sklearn.neighbors import KNeighborsClassifier\n",
        "from sklearn.metrics import confusion_matrix\n",
        "from sklearn.svm import SVC\n",
        "from sklearn.model_selection import train_test_split\n",
        "from sklearn.preprocessing import MultiLabelBinarizer\n",
        "from sklearn.ensemble import RandomForestClassifier\n",
        "from sklearn.ensemble import ExtraTreesClassifier\n",
        "from sklearn.model_selection import cross_val_predict\n",
        "from sklearn.externals import joblib\n",
        "\n",
        "def get_labels(label_string):\n",
        "    \"\"\"\n",
        "        This function converts label from string to array of labels\n",
        "        Input: \"(1, 2, 3, 4, 5)\"\n",
        "        Output: [1, 2, 3, 4, 5]\n",
        "    \"\"\"\n",
        "    label_array = label_string[1:-1]\n",
        "    label_array = label_array.split(',')\n",
        "    label_array = [int(label) for label in label_array if len(label) > 0]\n",
        "    return label_array\n",
        "\n",
        "\n",
        "def get_features(feature_string):\n",
        "    \"\"\"\n",
        "        This function converts feature vector from string to array of features\n",
        "        Input: \"(1.2, 3.4, ..., 9.10)\"\n",
        "        Output: [1.2, 3.4, ..., 9.10]\n",
        "    \"\"\"\n",
        "    feature_array = feature_string[1:-1]\n",
        "    feature_array = feature_array.split(',')\n",
        "    feature_array = [float(label) for label in feature_array]\n",
        "    return feature_array\n",
        "\n",
        "\n",
        "# Set home paths for data and features\n",
        "DATA_HOME = \"/content/drive/My Drive/Yelp-Restaurant-Classification/Model/data/\"\n",
        "FEATURES_HOME = '/content/drive/My Drive/Yelp-Restaurant-Classification/Model/features/'\n",
        "MODELS_HOME = '/content/drive/My Drive/Yelp-Restaurant-Classification/Model/model/'\n",
        "\n",
        "# Read training data and test data\n",
        "train_data = pd.read_csv(FEATURES_HOME + 'train_aggregate_features.csv')\n",
        "\n",
        "# Separate the labels from features in the training data\n",
        "trainX = np.array([get_features(feature) for feature in train_data['feature']])\n",
        "trainY = np.array([get_labels(label) for label in train_data['label']])\n",
        "\n",
        "# Use validation data for calculating the training accuracy, random_state ensures reproducible results without overfitting\n",
        "trainX, validationX, trainY, validationY = train_test_split(trainX, trainY, test_size=0.3, random_state=42)\n",
        "\n",
        "# Binary representation (just like one-hot vector) (1, 3, 5, 9) -> (1, 0, 1, 0, 1, 0, 0, 0, 1)\n",
        "mlb = MultiLabelBinarizer()\n",
        "trainY = mlb.fit_transform(trainY)\n",
        "\n",
        "# Do the same for validation labels\n",
        "actual_labels = validationY\n",
        "mlb = MultiLabelBinarizer()\n",
        "validationY = mlb.fit_transform(validationY)\n",
        "\n",
        "svc_clf = OneVsRestClassifier(SVC(kernel='linear', probability=True, verbose=True))\n",
        "rf_clf = RandomForestClassifier(n_estimators=200, oob_score=True, n_jobs=-1, random_state=42)\n",
        "knn_clf = KNeighborsClassifier()\n",
        "extra_tree_clf = ExtraTreesClassifier(n_estimators=195, max_leaf_nodes=16, n_jobs=-1, random_state=42)\n",
        "\n",
        "\n",
        "for clf in [svc_clf, rf_clf, knn_clf, extra_tree_clf]:\n",
        "    if not os.path.isfile(MODELS_HOME + f'{clf.__class__.__name__}.pkl'):\n",
        "      # Start time\n",
        "        start_time = time.time()\n",
        "\n",
        "        # Fit the classifier on the training data and labels\n",
        "        clf.fit(trainX, trainY)\n",
        "        cross_val = cross_val_predict(clf, validationX, validationY, cv=3)\n",
        "\n",
        "        print(f\"{clf.__class__.__name__} trained.\")\n",
        "\n",
        "        joblib.dump((mlb,clf), MODELS_HOME + f'{clf.__class__.__name__}.pkl')\n",
        "        print(\"Model saved.\")\n",
        "        \n",
        "        # End time\n",
        "        end_time = time.time()\n",
        "\n",
        "        print(f\"Overall F1 Score for {clf.__class__.__name__}:\", f1_score(cross_val, validationY, average='micro'))\n",
        "        print(f\"Individual F1 Score for {clf.__class__.__name__}:\", f1_score(cross_val, validationY, average=None))\n",
        "        print(f\"Variance of {clf.__class__.__name__} is:\", statistics.variance(f1_score(cross_val, validationY, average=None)))\n",
        "        print(f\"Time taken for training the {clf.__class__.__name__}\", end_time - start_time, \"sec\")\n",
        "        print(\"======================================================\")\n",
        "        print(\"\\n\")\n",
        "\n",
        "    mlb,clf = joblib.load(MODELS_HOME + f'{clf.__class__.__name__}'+\".pkl\")\n",
        "\n",
        "    print(f\"{clf.__class__.__name__} Model loaded.\")\n",
        "\n",
        "    # Predict the labels for the validation data\n",
        "    preds_binary = clf.predict(validationX)\n",
        "\n",
        "    # Predicted labels are converted back\n",
        "    # (1, 0, 1, 0, 1, 0, 0, 0, 1) -> (1, 3, 5, 9)\n",
        "    predicted_labels = mlb.inverse_transform(preds_binary)\n",
        "\n",
        "    print(\"Validation Set Results:\")\n",
        "    print(f\"Overall F1 Score for {clf.__class__.__name__}:\", f1_score(preds_binary, validationY, average='micro'))\n",
        "    print(f\"Individual F1 Score for {clf.__class__.__name__}:\", f1_score(preds_binary, validationY, average=None))\n",
        "    print(f\"Variance of {clf.__class__.__name__} is:\", statistics.variance(f1_score(preds_binary, validationY, average=None)))\n",
        "    print(\"======================================================\")\n",
        "\n",
        "\n",
        "X_train_1, X_train_2, y_train_1, y_train_2 = train_test_split(trainX, trainY, random_state=42)\n",
        "\n",
        "\n",
        "svc_clf = OneVsRestClassifier(SVC(kernel='linear', probability=True, verbose=True))\n",
        "rf_clf = RandomForestClassifier(n_estimators=200, oob_score=True, n_jobs=-1, random_state=42)\n",
        "knn_clf = KNeighborsClassifier()\n",
        "extra_tree_clf = ExtraTreesClassifier(n_estimators=195, max_leaf_nodes=16, n_jobs=-1, random_state=42)\n",
        "\n",
        "\n",
        "start_time = time.time()\n",
        "rnd_clf_2 = RandomForestClassifier(random_state=42)\n",
        "\n",
        "for p in [svc_clf, rf_clf, knn_clf, extra_tree_clf]:\n",
        "    p.fit(X_train_1, y_train_1)\n",
        "\n",
        "svc_clf_p = svc_clf.predict(X_train_2)\n",
        "rf_clf_p = rf_clf.predict(X_train_2)\n",
        "knn_clf_p = knn_clf.predict(X_train_2)\n",
        "\n",
        "held_out = np.column_stack((svc_clf_p, rf_clf_p, knn_clf_p))\n",
        "rnd_clf_2.fit(held_out, y_train_2)\n",
        "\n",
        "result_1 = []\n",
        "for p in [svc_clf, rf_clf, knn_clf]:\n",
        "    result_1.append(p.predict(validationX))\n",
        "\n",
        "y_pred_s = rnd_clf_2.predict(np.column_stack(tuple(result_1)))\n",
        "# End time\n",
        "end_time = time.time()\n",
        "\n",
        "print(f\"Time taken for training the Stacked Model:\", end_time - start_time, \"sec\")\n",
        "print(f\"Overall Stacked F1 Score for:\", f1_score(y_pred_s, validationY, average='micro'))\n",
        "print(f\"Overall Stacked F1 Score for:\", f1_score(y_pred_s, validationY, average=None))\n",
        "print(f\"Variance of Stacked Model is:\", statistics.variance(f1_score(y_pred_s, validationY, average=None)))\n"
      ],
      "execution_count": null,
      "outputs": [
        {
          "output_type": "stream",
          "text": [
            "OneVsRestClassifier Model loaded.\n",
            "Validation Set Results:\n",
            "Overall F1 Score for OneVsRestClassifier: 0.7990927990927991\n",
            "Individual F1 Score for OneVsRestClassifier: [0.60821918 0.78683386 0.83279743 0.62875197 0.77777778 0.85\n",
            " 0.92831106 0.75630252 0.85305592]\n",
            "Variance of OneVsRestClassifier is: 0.011002283060912728\n",
            "======================================================\n",
            "RandomForestClassifier Model loaded.\n",
            "Validation Set Results:\n",
            "Overall F1 Score for RandomForestClassifier: 0.8051592730115301\n",
            "Individual F1 Score for RandomForestClassifier: [0.59756098 0.81043478 0.86046512 0.66339869 0.67114094 0.86500655\n",
            " 0.92915215 0.66875    0.8707124 ]\n",
            "Variance of RandomForestClassifier is: 0.014429551073964162\n",
            "======================================================\n",
            "KNeighborsClassifier Model loaded.\n",
            "Validation Set Results:\n",
            "Overall F1 Score for KNeighborsClassifier: 0.8065585851142225\n",
            "Individual F1 Score for KNeighborsClassifier: [0.58682635 0.82067851 0.86060606 0.68733154 0.75213675 0.85505481\n",
            " 0.91734575 0.70623145 0.85673759]\n",
            "Variance of KNeighborsClassifier is: 0.011325120339131595\n",
            "======================================================\n",
            "ExtraTreesClassifier Model loaded.\n",
            "Validation Set Results:\n",
            "Overall F1 Score for ExtraTreesClassifier: 0.7683319903303787\n",
            "Individual F1 Score for ExtraTreesClassifier: [0.37121212 0.79359431 0.85470085 0.51439539 0.62365591 0.8612192\n",
            " 0.89723757 0.57823129 0.87100894]\n",
            "Variance of ExtraTreesClassifier is: 0.03619550339529752\n",
            "======================================================\n",
            "[LibSVM][LibSVM][LibSVM][LibSVM][LibSVM][LibSVM][LibSVM][LibSVM][LibSVM]Time taken for training the Stacked Model: 197.69266510009766 sec\n",
            "Overall Stacked F1 Score for: 0.7985219758848697\n",
            "Overall Stacked F1 Score for: [0.63098592 0.8092869  0.86326194 0.59344262 0.72274143 0.85827815\n",
            " 0.9373494  0.68484848 0.85362517]\n",
            "Variance of Stacked Model is: 0.014118975477325692\n"
          ],
          "name": "stdout"
        }
      ]
    },
    {
      "cell_type": "markdown",
      "metadata": {
        "id": "4kk_AyVCar1B"
      },
      "source": [
        "[link text](https://)Stack of 3 KNN AND 1 RF"
      ]
    },
    {
      "cell_type": "code",
      "metadata": {
        "id": "pPixqDgGZTRo",
        "outputId": "21e7a9bd-1c68-4b4e-bcb8-1192c6d578ac",
        "colab": {
          "base_uri": "https://localhost:8080/",
          "height": 102
        }
      },
      "source": [
        "#%%writefile training_classification_model.py\n",
        "import numpy as np\n",
        "import statistics\n",
        "import pandas as pd\n",
        "import time\n",
        "import os\n",
        "\n",
        "from sklearn.metrics import f1_score, accuracy_score\n",
        "from sklearn.multiclass import OneVsRestClassifier\n",
        "from sklearn.neighbors import KNeighborsClassifier\n",
        "from sklearn.metrics import confusion_matrix\n",
        "from sklearn.svm import SVC\n",
        "from sklearn.model_selection import train_test_split\n",
        "from sklearn.preprocessing import MultiLabelBinarizer\n",
        "from sklearn.ensemble import RandomForestClassifier\n",
        "from sklearn.ensemble import ExtraTreesClassifier\n",
        "from sklearn.model_selection import cross_val_predict\n",
        "from sklearn.externals import joblib\n",
        "\n",
        "def get_labels(label_string):\n",
        "    \"\"\"\n",
        "        This function converts label from string to array of labels\n",
        "        Input: \"(1, 2, 3, 4, 5)\"\n",
        "        Output: [1, 2, 3, 4, 5]\n",
        "    \"\"\"\n",
        "    label_array = label_string[1:-1]\n",
        "    label_array = label_array.split(',')\n",
        "    label_array = [int(label) for label in label_array if len(label) > 0]\n",
        "    return label_array\n",
        "\n",
        "\n",
        "def get_features(feature_string):\n",
        "    \"\"\"\n",
        "        This function converts feature vector from string to array of features\n",
        "        Input: \"(1.2, 3.4, ..., 9.10)\"\n",
        "        Output: [1.2, 3.4, ..., 9.10]\n",
        "    \"\"\"\n",
        "    feature_array = feature_string[1:-1]\n",
        "    feature_array = feature_array.split(',')\n",
        "    feature_array = [float(label) for label in feature_array]\n",
        "    return feature_array\n",
        "\n",
        "\n",
        "# Set home paths for data and features\n",
        "DATA_HOME = \"/content/drive/My Drive/Yelp-Restaurant-Classification/Model/data/\"\n",
        "FEATURES_HOME = '/content/drive/My Drive/Yelp-Restaurant-Classification/Model/features/'\n",
        "MODELS_HOME = '/content/drive/My Drive/Yelp-Restaurant-Classification/Model/model/'\n",
        "\n",
        "# Read training data and test data\n",
        "train_data = pd.read_csv(FEATURES_HOME + 'train_aggregate_features.csv')\n",
        "\n",
        "# Separate the labels from features in the training data\n",
        "trainX = np.array([get_features(feature) for feature in train_data['feature']])\n",
        "trainY = np.array([get_labels(label) for label in train_data['label']])\n",
        "\n",
        "# Use validation data for calculating the training accuracy, random_state ensures reproducible results without overfitting\n",
        "trainX, validationX, trainY, validationY = train_test_split(trainX, trainY, test_size=0.3, random_state=42)\n",
        "\n",
        "# Binary representation (just like one-hot vector) (1, 3, 5, 9) -> (1, 0, 1, 0, 1, 0, 0, 0, 1)\n",
        "mlb = MultiLabelBinarizer()\n",
        "trainY = mlb.fit_transform(trainY)\n",
        "\n",
        "# Do the same for validation labels\n",
        "actual_labels = validationY\n",
        "mlb = MultiLabelBinarizer()\n",
        "validationY = mlb.fit_transform(validationY)\n",
        "\n",
        "svc_clf = OneVsRestClassifier(SVC(kernel='linear', probability=True, verbose=True))\n",
        "rf_clf = RandomForestClassifier(n_estimators=200, oob_score=True, n_jobs=-1, random_state=42)\n",
        "knn_clf = KNeighborsClassifier()\n",
        "extra_tree_clf = ExtraTreesClassifier(n_estimators=195, max_leaf_nodes=16, n_jobs=-1, random_state=42)\n",
        "\n",
        "\n",
        "for clf in [svc_clf, rf_clf, knn_clf, extra_tree_clf]:\n",
        "    if not os.path.isfile(MODELS_HOME + f'{clf.__class__.__name__}.pkl'):\n",
        "      # Start time\n",
        "        start_time = time.time()\n",
        "\n",
        "        # Fit the classifier on the training data and labels\n",
        "        clf.fit(trainX, trainY)\n",
        "        cross_val = cross_val_predict(clf, validationX, validationY, cv=3)\n",
        "\n",
        "        print(f\"{clf.__class__.__name__} trained.\")\n",
        "\n",
        "        joblib.dump((mlb,clf), MODELS_HOME + f'{clf.__class__.__name__}.pkl')\n",
        "        print(\"Model saved.\")\n",
        "        \n",
        "        # End time\n",
        "        end_time = time.time()\n",
        "\n",
        "        print(f\"Overall F1 Score for {clf.__class__.__name__}:\", f1_score(cross_val, validationY, average='micro'))\n",
        "        print(f\"Individual F1 Score for {clf.__class__.__name__}:\", f1_score(cross_val, validationY, average=None))\n",
        "        print(f\"Variance of {clf.__class__.__name__} is:\", statistics.variance(f1_score(cross_val, validationY, average=None)))\n",
        "        print(f\"Time taken for training the {clf.__class__.__name__}\", end_time - start_time, \"sec\")\n",
        "        print(\"======================================================\")\n",
        "        print(\"\\n\")\n",
        "\n",
        "    mlb,clf = joblib.load(MODELS_HOME + f'{clf.__class__.__name__}'+\".pkl\")\n",
        "\n",
        "    print(f\"{clf.__class__.__name__} Model loaded.\")\n",
        "\n",
        "    # Predict the labels for the validation data\n",
        "    preds_binary = clf.predict(validationX)\n",
        "\n",
        "    # Predicted labels are converted back\n",
        "    # (1, 0, 1, 0, 1, 0, 0, 0, 1) -> (1, 3, 5, 9)\n",
        "    predicted_labels = mlb.inverse_transform(preds_binary)\n",
        "\n",
        "    print(\"Validation Set Results:\")\n",
        "    print(f\"Overall F1 Score for {clf.__class__.__name__}:\", f1_score(preds_binary, validationY, average='micro'))\n",
        "    print(f\"Individual F1 Score for {clf.__class__.__name__}:\", f1_score(preds_binary, validationY, average=None))\n",
        "    print(f\"Variance of {clf.__class__.__name__} is:\", statistics.variance(f1_score(preds_binary, validationY, average=None)))\n",
        "    print(\"======================================================\")\n",
        "\n",
        "\n",
        "X_train_1, X_train_2, y_train_1, y_train_2 = train_test_split(trainX, trainY, random_state=42)\n",
        "\n",
        "\n",
        "svc_clf = OneVsRestClassifier(SVC(kernel='linear', probability=True, verbose=True))\n",
        "rf_clf = RandomForestClassifier(n_estimators=200, oob_score=True, n_jobs=-1, random_state=42)\n",
        "knn_clf = KNeighborsClassifier()\n",
        "extra_tree_clf = ExtraTreesClassifier(n_estimators=195, max_leaf_nodes=16, n_jobs=-1, random_state=42)\n",
        "\n",
        "\n",
        "start_time = time.time()\n",
        "rnd_clf_2 = RandomForestClassifier(random_state=42)\n",
        "\n",
        "for p in [svc_clf, rf_clf, knn_clf, extra_tree_clf]:\n",
        "    p.fit(X_train_1, y_train_1)\n",
        "\n",
        "svc_clf_p = svc_clf.predict(X_train_2)\n",
        "rf_clf_p = rf_clf.predict(X_train_2)\n",
        "knn_clf_p = knn_clf.predict(X_train_2)\n",
        "\n",
        "held_out = np.column_stack((svc_clf_p, rf_clf_p, knn_clf_p))\n",
        "rnd_clf_2.fit(held_out, y_train_2)\n",
        "\n",
        "result_1 = []\n",
        "for p in [svc_clf, rf_clf, knn_clf]:\n",
        "    result_1.append(p.predict(validationX))\n",
        "\n",
        "y_pred_s = rnd_clf_2.predict(np.column_stack(tuple(result_1)))\n",
        "# End time\n",
        "end_time = time.time()\n",
        "\n",
        "print(f\"Time taken for training the Stacked Model:\", end_time - start_time, \"sec\")\n",
        "print(f\"Overall Stacked F1 Score for:\", f1_score(y_pred_s, validationY, average='micro'))\n",
        "print(f\"Overall Stacked F1 Score for:\", f1_score(y_pred_s, validationY, average=None))\n",
        "print(f\"Variance of Stacked Model is:\", statistics.variance(f1_score(y_pred_s, validationY, average=None)))\n",
        "\n",
        "\n",
        "\n",
        "X_train_1, X_train_2, y_train_1, y_train_2 = train_test_split(trainX, trainY, random_state=42)\n",
        "start_time = time.time()\n",
        "rnd_clf1 = RandomForestClassifier(random_state=42)\n",
        "knn_clf1 = KNeighborsClassifier()\n",
        "knn_clf2 = KNeighborsClassifier()\n",
        "knn_clf3 = KNeighborsClassifier()\n",
        "knn_clf4 = KNeighborsClassifier()\n",
        "\n",
        "rnd_clf2 = RandomForestClassifier(random_state=42)\n",
        "\n",
        "for p in [knn_clf1, knn_clf2, knn_clf3, rnd_clf1]:\n",
        "    p.fit(X_train_1, y_train_1)\n",
        "\n",
        "knn_clf1_p = knn_clf1.predict(X_train_2)\n",
        "knn_clf2_p = knn_clf2.predict(X_train_2)\n",
        "knn_clf3_p = knn_clf3.predict(X_train_2)\n",
        "rnd_clf1_p = rnd_clf1.predict(X_train_2)\n",
        "\n",
        "held_out = np.column_stack((knn_clf1_p, knn_clf2_p, knn_clf3_p, rnd_clf1_p))\n",
        "rnd_clf_2.fit(held_out, y_train_2)\n",
        "\n",
        "result_1 = []\n",
        "for p in [knn_clf1, knn_clf1, knn_clf3, rnd_clf1]:\n",
        "    result_1.append(p.predict(validationX))\n",
        "\n",
        "y_pred_s = rnd_clf_2.predict(np.column_stack(tuple(result_1)))\n",
        "# End time\n",
        "end_time = time.time()\n",
        "\n",
        "print(f\"Time taken for training the Stacked Model:\", end_time - start_time, \"sec\")\n",
        "print(f\"Overall Stacked F1 Score for:\", f1_score(y_pred_s, validationY, average='micro'))\n",
        "print(f\"Overall Stacked F1 Score for:\", f1_score(y_pred_s, validationY, average=None))\n",
        "print(f\"Variance of Stacked Model is:\", statistics.variance(f1_score(y_pred_s, validationY, average=None)))\n",
        "\n"
      ],
      "execution_count": null,
      "outputs": [
        {
          "output_type": "stream",
          "text": [
            "Time taken for training the Stacked Model: 34.323143005371094 sec\n",
            "Overall Stacked F1 Score for: 0.7776704655205718\n",
            "Overall Stacked F1 Score for: [0.61081081 0.79333333 0.85113269 0.56157635 0.68882175 0.83665339\n",
            " 0.91105769 0.68023256 0.84166667]\n",
            "Variance of Stacked Model is: 0.01467163770907351\n"
          ],
          "name": "stdout"
        }
      ]
    },
    {
      "cell_type": "markdown",
      "metadata": {
        "id": "AuCgsjTnjkkl"
      },
      "source": [
        "Random Forest algorithm: \n",
        "Average F1 => 0.80516; \n",
        "Time taken to train => 17.7761 sec;\n",
        "Variance => 0.01443\n",
        "\n",
        "SVC algorithm: \n",
        "Average F1 => 0.79910; \n",
        "Time taken to train => 295.4199 sec; \n",
        "Variance => 0.01100\n",
        "\n",
        "KNN algorithm: \n",
        "Average F1 => 0.80656; \n",
        "Time taken to train => 2.7335 sec; \n",
        "Variance => 0.01132\n",
        "\n",
        "Extratrees algorithm: \n",
        "Average F1 => 0.76833;\n",
        "Time taken to train => 3.6577 sec;\n",
        "Variance => 0.03619\n",
        "\n",
        "Stacked algorithm (RF, SVC, KNN, Extratrees): \n",
        "Average F1 => 0.79852; \n",
        "Time taken to train => 165.1282 sec; \n",
        "Variance => 0.01412\n",
        "\n",
        "Stacked algorithm (RF, KNN, KNN, KNN): \n",
        "Average F1 =>  0.77767; \n",
        "Time taken to train => 34.3231 sec; \n",
        "Variance => 0.01467\n",
        "\n"
      ]
    },
    {
      "cell_type": "markdown",
      "metadata": {
        "id": "C-78noS1tqSB"
      },
      "source": [
        "KNN and Random Forest appears to outperform the other models in terms of time, variance and F1 score with both over 80% across all classes. Stacking the best two predictors seem to have an adverse effect on the model. \n",
        "\n",
        "I'll stick with KNN for the rest of my analysis and testing"
      ]
    },
    {
      "cell_type": "markdown",
      "metadata": {
        "id": "1Fc6oQXmURok"
      },
      "source": [
        "# KNN Model Analysis"
      ]
    },
    {
      "cell_type": "markdown",
      "metadata": {
        "id": "cZqAJpYc0OqG"
      },
      "source": [
        "Compute ROC curve and ROC area for each class and Confusion Matrix of each class"
      ]
    },
    {
      "cell_type": "code",
      "metadata": {
        "id": "mc2zMjNMubs3",
        "outputId": "698a194d-bb58-45e3-a0a7-5959e3129709",
        "colab": {
          "base_uri": "https://localhost:8080/",
          "height": 1000
        }
      },
      "source": [
        "#%%writefile model_analysis.py\n",
        "import numpy as np\n",
        "import statistics\n",
        "import pandas as pd\n",
        "import time\n",
        "import os\n",
        "print(__doc__)\n",
        "from itertools import cycle\n",
        "from sklearn.metrics import f1_score, accuracy_score\n",
        "from sklearn.metrics import roc_curve\n",
        "from sklearn.metrics import auc\n",
        "from sklearn.metrics import multilabel_confusion_matrix, confusion_matrix\n",
        "import matplotlib.pyplot as plt\n",
        "from sklearn.preprocessing import MultiLabelBinarizer\n",
        "from sklearn.neighbors import KNeighborsClassifier\n",
        "from sklearn.ensemble import RandomForestClassifier\n",
        "from sklearn.externals import joblib\n",
        "\n",
        "MODELS_HOME = '/content/drive/My Drive/Yelp-Restaurant-Classification/Model/model/'\n",
        "mlb,clf = joblib.load(MODELS_HOME + \"KNeighborsClassifier.pkl\")\n",
        "\n",
        "# Predict the labels for the validation data\n",
        "preds_binary = clf.predict(validationX)\n",
        "\n",
        "# Predicted labels are converted back\n",
        "# (1, 0, 1, 0, 1, 0, 0, 0, 1) -> (1, 3, 5, 9)\n",
        "predicted_labels = mlb.inverse_transform(preds_binary)\n",
        "\n",
        "conf_mx = multilabel_confusion_matrix(preds_binary,validationY)\n",
        "i = 0\n",
        "for conf in conf_mx:\n",
        "    print(i)\n",
        "    print(pd.DataFrame(conf))\n",
        "    print(\"======\\n\")\n",
        "    i += 1\n",
        "\n",
        "n_classes = preds_binary.shape[1]\n",
        "fpr = dict()\n",
        "tpr = dict()\n",
        "roc_auc = dict()\n",
        "for i in range(n_classes):\n",
        "    fpr[i], tpr[i], _ = roc_curve(validationY[:, i], preds_binary[:, i])\n",
        "    roc_auc[i] = auc(fpr[i], tpr[i])\n",
        "\n",
        "n_classes = preds_binary.shape[1]\n",
        "fpr = dict()\n",
        "tpr = dict()\n",
        "roc_auc = dict()\n",
        "for i in range(n_classes):\n",
        "    fpr[i], tpr[i], _ = roc_curve(validationY[:, i], preds_binary[:, i])\n",
        "    roc_auc[i] = auc(fpr[i], tpr[i])\n",
        "\n",
        "# Compute micro-average ROC curve and ROC area\n",
        "fpr[\"micro\"], tpr[\"micro\"], _ = roc_curve(preds_binary.ravel(), validationY.ravel())\n",
        "roc_auc[\"micro\"] = auc(fpr[\"micro\"], tpr[\"micro\"])\n",
        "\n",
        "##############################################################################\n",
        "# Plot ROC curves for the multiclass problem\n",
        "\n",
        "# Compute macro-average ROC curve and ROC area\n",
        "\n",
        "# First aggregate all false positive rates\n",
        "all_fpr = np.unique(np.concatenate([fpr[i] for i in range(n_classes)]))\n",
        "\n",
        "# Then interpolate all ROC curves at this points\n",
        "mean_tpr = np.zeros_like(all_fpr)\n",
        "for i in range(n_classes):\n",
        "    mean_tpr += np.interp(all_fpr, fpr[i], tpr[i])\n",
        "\n",
        "# Finally average it and compute AUC\n",
        "mean_tpr /= n_classes\n",
        "\n",
        "fpr[\"macro\"] = all_fpr\n",
        "tpr[\"macro\"] = mean_tpr\n",
        "roc_auc[\"macro\"] = auc(fpr[\"macro\"], tpr[\"macro\"])\n",
        "\n",
        "# Plot all ROC curves\n",
        "plt.figure()\n",
        "plt.plot(fpr[\"micro\"], tpr[\"micro\"],\n",
        "         label='micro-avg (area = {0:0.2f})'\n",
        "               ''.format(roc_auc[\"micro\"]),\n",
        "         linewidth=2)\n",
        "\n",
        "plt.plot(fpr[\"macro\"], tpr[\"macro\"],\n",
        "         label='macro-avg (area = {0:0.2f})'\n",
        "               ''.format(roc_auc[\"macro\"]),\n",
        "         linewidth=2)\n",
        "\n",
        "for i in range(n_classes):\n",
        "    plt.plot(fpr[i], tpr[i], label='Class {0} (area = {1:0.2f})'\n",
        "                                   ''.format(i, roc_auc[i]))\n",
        "\n",
        "plt.plot([0, 1], [0, 1], 'k--')\n",
        "plt.xlim([0.0, 1.0])\n",
        "plt.ylim([0.0, 1.05])\n",
        "plt.xlabel('False Positive Rate')\n",
        "plt.ylabel('True Positive Rate')\n",
        "plt.title('Some extension of Receiver operating characteristic to multi-class')\n",
        "plt.legend(loc=\"lower right\")\n",
        "plt.show()\n"
      ],
      "execution_count": null,
      "outputs": [
        {
          "output_type": "stream",
          "text": [
            "Automatically created module for IPython interactive environment\n",
            "0\n",
            "     0   1\n",
            "0  363  93\n",
            "1   45  98\n",
            "======\n",
            "\n",
            "1\n",
            "     0    1\n",
            "0  234   70\n",
            "1   41  254\n",
            "======\n",
            "\n",
            "2\n",
            "     0    1\n",
            "0  223   36\n",
            "1   56  284\n",
            "======\n",
            "\n",
            "3\n",
            "     0    1\n",
            "0  112   67\n",
            "1  165  255\n",
            "======\n",
            "\n",
            "4\n",
            "     0    1\n",
            "0  380   31\n",
            "1   56  132\n",
            "======\n",
            "\n",
            "5\n",
            "     0    1\n",
            "0  129   30\n",
            "1   89  351\n",
            "======\n",
            "\n",
            "6\n",
            "     0    1\n",
            "0  134   18\n",
            "1   53  394\n",
            "======\n",
            "\n",
            "7\n",
            "     0    1\n",
            "0  381   61\n",
            "1   38  119\n",
            "======\n",
            "\n",
            "8\n",
            "     0    1\n",
            "0  196   69\n",
            "1   32  302\n",
            "======\n",
            "\n"
          ],
          "name": "stdout"
        },
        {
          "output_type": "display_data",
          "data": {
            "image/png": "[encoded data removed]",
            "text/plain": [
              "<Figure size 432x288 with 1 Axes>"
            ]
          },
          "metadata": {
            "tags": [],
            "needs_background": "light"
          }
        }
      ]
    },
    {
      "cell_type": "markdown",
      "metadata": {
        "id": "iNQb4-OVUC_D"
      },
      "source": [
        "# Testing 3 stage model on new data\n",
        "\n"
      ]
    },
    {
      "cell_type": "code",
      "metadata": {
        "id": "E_A8oHvTkTz-",
        "outputId": "28b4f0ff-cea3-45e2-df2e-0f77b20bc834",
        "colab": {
          "base_uri": "https://localhost:8080/",
          "height": 71
        }
      },
      "source": [
        "#%%writefile get_prediction.py\n",
        "from sklearn.preprocessing import MultiLabelBinarizer\n",
        "from sklearn.ensemble import RandomForestClassifier\n",
        "from sklearn.externals import joblib\n",
        "import numpy as np\n",
        "import pandas as pd\n",
        "import tarfile\n",
        "import skimage\n",
        "import io\n",
        "import h5py\n",
        "import os\n",
        "import caffe\n",
        "import time\n",
        "\n",
        "\n",
        "\n",
        "\n",
        "def get_predictions(RESTAURANT_HOME, CAFFE_HOME, DATA_HOME, MODELS_HOME):\n",
        "    \"\"\"\n",
        "        This function is used to make restaurant class prediction of photos from several directory paths.\n",
        "        Features are extracted using the pretrained bvlc_reference_caffenet\n",
        "        Instead of returning 1000-dim vector from SoftMax layer, using fc7 as the final layer to get 4096-dim vector.\n",
        "        The features are the passed to a KNN multi label classifier\n",
        "    \"\"\"\n",
        "\n",
        "    # Model creation\n",
        "    # Using bvlc_reference_caffenet model for training\n",
        "    import os\n",
        "    if os.path.isfile(CAFFE_HOME + 'models/bvlc_reference_caffenet/bvlc_reference_caffenet.caffemodel'):\n",
        "        print('CaffeNet found.')\n",
        "\n",
        "    model_def = CAFFE_HOME + 'models/bvlc_reference_caffenet/deploy.prototxt'\n",
        "    model_weights = CAFFE_HOME + 'models/bvlc_reference_caffenet/bvlc_reference_caffenet.caffemodel'\n",
        "\n",
        "    # Create a net object \n",
        "    model = caffe.Net(model_def,      # defines the structure of the model\n",
        "                model_weights,  # contains the trained weights\n",
        "                caffe.TEST)     # use test mode (e.g., don't perform dropout)\n",
        "\n",
        "    # set up transformer - creates transformer object\n",
        "    transformer = caffe.io.Transformer({'data': model.blobs['data'].data.shape})\n",
        "    # transpose image from HxWxC to CxHxW \n",
        "    transformer.set_transpose('data', (2, 0, 1))\n",
        "    transformer.set_mean('data', np.load(CAFFE_HOME + 'python/caffe/imagenet/ilsvrc_2012_mean.npy').mean(1).mean(1))\n",
        "    # set raw_scale = 255 to multiply with the values loaded with caffe.io.load_image \n",
        "    transformer.set_raw_scale('data', 255)\n",
        "    # swap image channels from RGB to BGR \n",
        "    transformer.set_channel_swap('data', (2, 1, 0))\n",
        "\n",
        "    def extract_features(image_paths):\n",
        "        \"\"\"\n",
        "            This function is used to extract feature from the current batch of photos.\n",
        "            Features are extracted using the pretrained bvlc_reference_caffenet\n",
        "            Instead of returning 1000-dim vector from SoftMax layer, using fc7 as the final layer to get 4096-dim vector\n",
        "        \"\"\"\n",
        "        test_size = len(image_paths)\n",
        "        model.blobs['data'].reshape(test_size, 3, 227, 227)\n",
        "        model.blobs['data'].data[...] = list(map(lambda x: transformer.preprocess('data', skimage.img_as_float(skimage.io.imread(x)).astype(np.float32) ), image_paths))\n",
        "        out = model.forward()\n",
        "        return model.blobs['fc7'].data\n",
        "\n",
        "    features = extract_features(image_paths)\n",
        "\n",
        "    mlb,clf = joblib.load(MODELS_HOME + \"KNeighborsClassifier.pkl\")\n",
        "\n",
        "    # Predict the labels for the validation data\n",
        "    preds_binary = clf.predict(features)\n",
        "\n",
        "    # Predicted labels are converted back\n",
        "    # (1, 0, 1, 0, 1, 0, 0, 0, 1) -> (1, 3, 5, 9)\n",
        "    predicted_labels = mlb.inverse_transform(preds_binary)\n",
        "    return predicted_labels\n",
        "      "
      ],
      "execution_count": null,
      "outputs": [
        {
          "output_type": "stream",
          "text": [
            "/usr/local/lib/python3.6/dist-packages/sklearn/externals/joblib/__init__.py:15: FutureWarning: sklearn.externals.joblib is deprecated in 0.21 and will be removed in 0.23. Please import this functionality directly from joblib, which can be installed with: pip install joblib. If this warning is raised when loading pickled models, you may need to re-serialize those models with scikit-learn 0.21+.\n",
            "  warnings.warn(msg, category=FutureWarning)\n"
          ],
          "name": "stderr"
        }
      ]
    },
    {
      "cell_type": "code",
      "metadata": {
        "id": "S8vAHo1Dl-V9",
        "outputId": "a14e7843-bd41-4869-eea2-8031c5539f69",
        "colab": {
          "base_uri": "https://localhost:8080/",
          "height": 850
        }
      },
      "source": [
        "# Paths\n",
        "CAFFE_HOME = \"/content/drive/My Drive/Yelp-Restaurant-Classification/Model/caffe/\"\n",
        "DATA_HOME = \"/content/drive/My Drive/Yelp-Restaurant-Classification/Model/data/\"\n",
        "MODELS_HOME = '/content/drive/My Drive/Yelp-Restaurant-Classification/Model/model/'\n",
        "RESTAURANT_HOME = \"/content/drive/My Drive/Yelp-Restaurant-Classification/Model/restaurant-images/\"\n",
        "\n",
        "\n",
        "image_paths = [RESTAURANT_HOME+f.strip() for f in os.listdir(RESTAURANT_HOME) if os.path.isfile(RESTAURANT_HOME + f)]\n",
        "\n",
        "get_predictions(image_paths, CAFFE_HOME, DATA_HOME, MODELS_HOME)"
      ],
      "execution_count": null,
      "outputs": [
        {
          "output_type": "stream",
          "text": [
            "CaffeNet found.\n"
          ],
          "name": "stdout"
        },
        {
          "output_type": "execute_result",
          "data": {
            "text/plain": [
              "[(2, 3, 4, 5, 6, 7),\n",
              " (0, 2, 3, 5, 6, 8),\n",
              " (2, 3, 5, 6),\n",
              " (0, 2, 3, 4, 5, 6, 7, 8),\n",
              " (1, 2, 5, 6, 8),\n",
              " (2, 3, 4, 5, 6, 8),\n",
              " (3, 5, 6, 8),\n",
              " (0, 3, 6, 8),\n",
              " (2, 3, 5, 6),\n",
              " (6, 8),\n",
              " (3, 5, 6, 8),\n",
              " (0, 3, 8),\n",
              " (1, 3, 5, 6),\n",
              " (2, 5, 6),\n",
              " (0, 3, 8),\n",
              " (2, 4, 5, 6, 7),\n",
              " (2, 3, 4, 5, 6, 7),\n",
              " (2, 3, 4, 5, 6, 7),\n",
              " (0, 2, 3, 4, 5, 6, 7),\n",
              " (2, 3, 4, 5, 6, 7),\n",
              " (0, 3, 6, 8),\n",
              " (3, 8),\n",
              " (3, 5, 6),\n",
              " (0, 2, 3, 4, 5, 6, 8),\n",
              " (2, 3, 4, 5, 6),\n",
              " (0, 2, 3, 4, 5, 6, 8),\n",
              " (0, 2, 3, 5, 6, 8),\n",
              " (0, 3, 5, 6, 8),\n",
              " (0, 2, 3, 4, 5, 6, 7, 8),\n",
              " (0, 2, 3, 5, 6, 8),\n",
              " (0, 2, 3, 4, 5, 6, 8),\n",
              " (2, 3, 4, 5, 6, 7),\n",
              " (0, 1, 2, 3, 4, 5, 6, 7, 8),\n",
              " (2, 3, 4, 5, 6, 7),\n",
              " (1, 2, 3, 4, 5, 6, 7),\n",
              " (2, 3, 5, 6),\n",
              " (2, 3, 5, 6),\n",
              " (3, 5, 6),\n",
              " (3, 5, 6),\n",
              " (2, 3, 5, 6),\n",
              " (0, 3, 5, 6, 8),\n",
              " (0, 3, 5, 6),\n",
              " (1, 2, 5, 6),\n",
              " (2, 4, 5, 6, 7, 8),\n",
              " (2, 3, 5, 6, 8),\n",
              " (1, 2, 3, 5, 6),\n",
              " (1, 2, 3, 4, 5, 6),\n",
              " (0, 2, 3, 5, 6)]"
            ]
          },
          "metadata": {
            "tags": []
          },
          "execution_count": 2
        }
      ]
    },
    {
      "cell_type": "code",
      "metadata": {
        "id": "RuIdDS7f2Srm",
        "outputId": "74721dfc-0651-4b4b-9a92-c7913ee3e60f",
        "colab": {
          "base_uri": "https://localhost:8080/",
          "height": 37
        }
      },
      "source": [
        "RESTAURANT_HOME"
      ],
      "execution_count": null,
      "outputs": [
        {
          "output_type": "execute_result",
          "data": {
            "application/vnd.google.colaboratory.intrinsic+json": {
              "type": "string"
            },
            "text/plain": [
              "'/content/drive/My Drive/Yelp-Restaurant-Classification/Model/restaurant-images/'"
            ]
          },
          "metadata": {
            "tags": []
          },
          "execution_count": 110
        }
      ]
    },
    {
      "cell_type": "code",
      "metadata": {
        "id": "5BLEjV4R2cil"
      },
      "source": [
        ""
      ],
      "execution_count": null,
      "outputs": []
    }
  ]
}